{
 "cells": [
  {
   "cell_type": "code",
   "execution_count": null,
   "metadata": {},
   "outputs": [],
   "source": [
    "# 优化与深度学习\n",
    "# 目标函数很重要 预先定义一个损失函数，最小化损失函数的这种损失函数被称为优化问题的目标函数\n",
    "# 优化与深度学习的关系\n",
    "\n",
    "# 优化注重最小化训练误差，而深度学习注重最小化泛化误差，注重应对过拟合\n",
    "# 本章中只注重优化算法在最小化目标函数上的表现，不关注模型的泛化误差\n",
    "\n",
    "# 优化在深度学习中的挑战\n",
    "# 解析解找不到，故利用优化算法寻找最小化目标函数的数值解，\n",
    "# 通过优化算法有限次的迭代模型参数来尽可能的降低损失函数的值\n",
    "# 优化在深度学习中的挑战：（1））局部最小值（2）鞍点\n",
    "\n",
    "# 问题描述\n",
    "%matplotlib inline\n",
    "import sys\n",
    "sys.path.append(\"..\")\n",
    "import d2lzh_pytorch as d2l\n",
    "from mpl_toolkits import mplot3d # 三维画图\n",
    "import numpy as np\n",
    "\n",
    "# 局部最小值\n"
   ]
  }
 ],
 "metadata": {
  "kernelspec": {
   "display_name": "Python 3",
   "language": "python",
   "name": "python3"
  },
  "language_info": {
   "codemirror_mode": {
    "name": "ipython",
    "version": 3
   },
   "file_extension": ".py",
   "mimetype": "text/x-python",
   "name": "python",
   "nbconvert_exporter": "python",
   "pygments_lexer": "ipython3",
   "version": "3.7.4"
  }
 },
 "nbformat": 4,
 "nbformat_minor": 2
}
