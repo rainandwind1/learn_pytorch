{
 "cells": [
  {
   "cell_type": "code",
   "execution_count": null,
   "metadata": {},
   "outputs": [],
   "source": [
    "# 在目标检测领域并没有类似 MNIST 或者 Fashion-MNIST 那样的小数据集\n"
   ]
  },
  {
   "cell_type": "code",
   "execution_count": 3,
   "metadata": {},
   "outputs": [
    {
     "data": {
      "text/plain": [
       "[1, 2, 2, 5, 16, 78]"
      ]
     },
     "execution_count": 3,
     "metadata": {},
     "output_type": "execute_result"
    }
   ],
   "source": [
    "# 冒泡排序\n",
    "def bubble_sort(target):\n",
    "    for i in range(len(target)):\n",
    "        for j in range(len(target) - i - 1):\n",
    "            max_value,min_value = max(target[j],target[j+1]),min(target[j],target[j+1])\n",
    "            target[j] = min_value\n",
    "            target[j+1] = max_value\n",
    "    return target\n",
    "bubble_sort([5,16,2,78,1,2])\n",
    "            "
   ]
  }
 ],
 "metadata": {
  "kernelspec": {
   "display_name": "Python 3",
   "language": "python",
   "name": "python3"
  },
  "language_info": {
   "codemirror_mode": {
    "name": "ipython",
    "version": 3
   },
   "file_extension": ".py",
   "mimetype": "text/x-python",
   "name": "python",
   "nbconvert_exporter": "python",
   "pygments_lexer": "ipython3",
   "version": "3.7.4"
  }
 },
 "nbformat": 4,
 "nbformat_minor": 2
}
