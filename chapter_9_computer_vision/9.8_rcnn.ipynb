{
 "cells": [
  {
   "cell_type": "code",
   "execution_count": 1,
   "metadata": {},
   "outputs": [
    {
     "data": {
      "text/plain": [
       "'\\n# 一、R-CNN\\n# 具体来说R-CNN主要由以下4步构成\\n\\n# 1.对输入图像使用选择性搜索（selective search）来选取多个高质量的提议区域，\\n# 这些提议通常是在多个尺度下选取的，并具有不同的形状和大小，每个人提议区域将被\\n# 标注类别和真实边界框\\n\\n# 2.选取一个预训练的卷积神经网络。并将其在输出层之前截断，将每个提议区域变形为\\n# 网络需要的输入尺寸，并通过前向计算输出抽取的提议区域特征\\n\\n# 3.将每个提议区域的特征连同其标注的类别作为一个样本，训练多个支持向量机对目标分类\\n# 其中每个支持向量机用来判断样本是否属于某一个类别\\n\\n# 4.将每个提议区域的特征连同其标注的边界框作为一个样本，训练线性回归模型来预测真实\\n# 边界框\\n\\n# R-CNN虽然通过预训练的卷积神经网络有效抽取了图像特征，\\n# 但它的主要缺点是速度慢。想象一下，我们可能从一张图像中选出\\n# 上千个提议区域，对该图像做目标检测将导致上千次的卷积神经网络的\\n# 前向计算。这个巨大的计算量令R-CNN难以在实际应用中被广泛采用。\\n'"
      ]
     },
     "execution_count": 1,
     "metadata": {},
     "output_type": "execute_result"
    }
   ],
   "source": [
    "# 区域卷积神经网络 region-based CNN or regions with CNN features R-CNN\n",
    "# 是将深度模型应用于目标检测的开创性工作之一\n",
    "# 本节将介绍 1.Fast R-CNN , 2.Faster R-CNN , 3.Mask R-CNN\n",
    "\n",
    "# 一、R-CNN\n",
    "# 具体来说R-CNN主要由以下4步构成\n",
    "\n",
    "# 1.对输入图像使用选择性搜索（selective search）来选取多个高质量的提议区域，\n",
    "# 这些提议通常是在多个尺度下选取的，并具有不同的形状和大小，每个人提议区域将被\n",
    "# 标注类别和真实边界框\n",
    "\n",
    "# 2.选取一个预训练的卷积神经网络。并将其在输出层之前截断，将每个提议区域变形为\n",
    "# 网络需要的输入尺寸，并通过前向计算输出抽取的提议区域特征\n",
    "\n",
    "# 3.将每个提议区域的特征连同其标注的类别作为一个样本，训练多个支持向量机对目标分类\n",
    "# 其中每个支持向量机用来判断样本是否属于某一个类别\n",
    "\n",
    "# 4.将每个提议区域的特征连同其标注的边界框作为一个样本，训练线性回归模型来预测真实\n",
    "# 边界框\n",
    "\n",
    "# R-CNN虽然通过预训练的卷积神经网络有效抽取了图像特征，\n",
    "# 但它的主要缺点是速度慢。想象一下，我们可能从一张图像中选出\n",
    "# 上千个提议区域，对该图像做目标检测将导致上千次的卷积神经网络的\n",
    "# 前向计算。这个巨大的计算量令R-CNN难以在实际应用中被广泛采用。\n",
    "\n",
    "# 二、Fast R-CNN\n",
    "\n",
    "# 三、Faster R-CNN\n",
    "\n",
    "# 四、Mask R-CNN\n",
    "\n",
    "\n",
    "\n",
    "\n"
   ]
  },
  {
   "cell_type": "code",
   "execution_count": null,
   "metadata": {},
   "outputs": [],
   "source": []
  }
 ],
 "metadata": {
  "kernelspec": {
   "display_name": "Python 3",
   "language": "python",
   "name": "python3"
  },
  "language_info": {
   "codemirror_mode": {
    "name": "ipython",
    "version": 3
   },
   "file_extension": ".py",
   "mimetype": "text/x-python",
   "name": "python",
   "nbconvert_exporter": "python",
   "pygments_lexer": "ipython3",
   "version": "3.7.4"
  }
 },
 "nbformat": 4,
 "nbformat_minor": 2
}
