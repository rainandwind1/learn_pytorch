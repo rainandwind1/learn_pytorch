{
 "cells": [
  {
   "cell_type": "code",
   "execution_count": null,
   "metadata": {},
   "outputs": [],
   "source": [
    "# 语义分割\n",
    "# 图像分割（image segmentation）  实例分割（instance segmentation）\n",
    "# 图像分割将图像分割成若干组成区域，这类问题的方法通常利用图像中像素之间的相关性，\n",
    "# 它在训练时不需要有关图像像素的标签信息，在预测是无法保证分割出的区域具有我们希望得到\n",
    "# 到的语义。\n",
    "# 实例分割又叫同时检测并分割，他研究如何识别图像中各个目标实例的像素级区域，与\n",
    "# 语义分割不同，实例分割不仅需要区分语义，还要区分不同的目标实例，如果图像中有两只狗\n",
    "# 实例分割需要区分像素属于这两只狗中的哪一个\n",
    "\n",
    "# Pascal VOC2012 语义分割数据集\n"
   ]
  }
 ],
 "metadata": {
  "kernelspec": {
   "display_name": "Python 3",
   "language": "python",
   "name": "python3"
  },
  "language_info": {
   "codemirror_mode": {
    "name": "ipython",
    "version": 3
   },
   "file_extension": ".py",
   "mimetype": "text/x-python",
   "name": "python",
   "nbconvert_exporter": "python",
   "pygments_lexer": "ipython3",
   "version": "3.7.4"
  }
 },
 "nbformat": 4,
 "nbformat_minor": 2
}
