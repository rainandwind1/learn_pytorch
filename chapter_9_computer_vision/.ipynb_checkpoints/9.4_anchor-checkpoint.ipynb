{
 "cells": [
  {
   "cell_type": "code",
   "execution_count": null,
   "metadata": {},
   "outputs": [],
   "source": [
    "# 锚框\n",
    "# 目标检测算法通常在输入图像中采样大量的区域，然后判断这些区域中是否包含我们感兴趣的目标\n",
    "# 并调整区域边缘从而更准确的预测目标的真实边界框，不同的模型使用的区域采样方法可能不同\n",
    "# 这里介绍一种方法，它以每个像素为中心生成多个大小和宽高比不同的边界框，这些边界框称为锚框\n",
    "# 我们将在后面基于锚框实践目标检测\n",
    "\n",
    "5 matplotlib inline\n",
    "from PIL import Image\n",
    "import numpy as np\n",
    "import math\n",
    "import torch\n",
    "\n",
    "import sys\n",
    "sys.path.append(\"..\"\n",
    "               )"
   ]
  }
 ],
 "metadata": {
  "kernelspec": {
   "display_name": "Python 3",
   "language": "python",
   "name": "python3"
  },
  "language_info": {
   "codemirror_mode": {
    "name": "ipython",
    "version": 3
   },
   "file_extension": ".py",
   "mimetype": "text/x-python",
   "name": "python",
   "nbconvert_exporter": "python",
   "pygments_lexer": "ipython3",
   "version": "3.7.4"
  }
 },
 "nbformat": 4,
 "nbformat_minor": 2
}
