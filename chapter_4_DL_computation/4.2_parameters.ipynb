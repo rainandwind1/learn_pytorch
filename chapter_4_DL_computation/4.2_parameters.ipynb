{
 "cells": [
  {
   "cell_type": "code",
   "execution_count": 7,
   "metadata": {},
   "outputs": [
    {
     "name": "stdout",
     "output_type": "stream",
     "text": [
      "<class 'generator'>\n",
      "0.weight torch.Size([3, 4])\n",
      "0.bias torch.Size([3])\n",
      "2.weight torch.Size([1, 3])\n",
      "2.bias torch.Size([1])\n",
      "weight torch.Size([3, 4])\n",
      "bias torch.Size([3])\n"
     ]
    }
   ],
   "source": [
    "# 模型参数的访问、初始化和共享\n",
    "import torch\n",
    "from torch import nn\n",
    "from torch.nn import init\n",
    "\n",
    "net = nn.Sequential(nn.Linear(4,3),nn.ReLU(),nn.Linear(3,1))\n",
    "# print(net)\n",
    "X = torch.rand(2,4)\n",
    "Y = net(X).sum()\n",
    "print(type(net.named_parameters())) # 通过named_parameters 来访问模型参数\n",
    "for name,param in net.named_parameters():\n",
    "    print(name,param.size())\n",
    "# print(Y)\n",
    "for name,param in net[0].named_parameters():\n",
    "    print(name,param.size())"
   ]
  },
  {
   "cell_type": "code",
   "execution_count": 12,
   "metadata": {
    "code_folding": [
     15
    ]
   },
   "outputs": [
    {
     "name": "stdout",
     "output_type": "stream",
     "text": [
      "weight1 torch.Size([20, 20])\n"
     ]
    }
   ],
   "source": [
    "# 模型参数的访问、初始化和共享\n",
    "import torch\n",
    "from torch import nn\n",
    "from torch.nn import init\n",
    "\n",
    "class MyModule(nn.Module):\n",
    "    def __init__(self,**kargs):\n",
    "        super(MyModule,self).__init__(**kargs)\n",
    "        self.weight1 = nn.Parameter(torch.rand(20,20))\n",
    "        self.weight2 = torch.rand(20,20)\n",
    "        \n",
    "    def forward(self,x):\n",
    "        pass\n",
    "\n",
    "n = MyModule()\n",
    "for name,param in n.named_parameters():\n",
    "    print(name,param.size())\n",
    "\n",
    "# weight_0 = list(n[0].parameters())[0]\n",
    "# print(weight_0.data)"
   ]
  },
  {
   "cell_type": "code",
   "execution_count": 19,
   "metadata": {},
   "outputs": [
    {
     "name": "stdout",
     "output_type": "stream",
     "text": [
      "0.weight tensor([[-9.5564, -0.0000,  5.3201,  7.4332],\n",
      "        [-0.0000, -0.0000, -5.5789,  9.5053],\n",
      "        [-6.4296,  5.8438, -0.0000,  0.0000]])\n",
      "2.weight tensor([[-7.7725, -6.6418, -5.5301]])\n"
     ]
    }
   ],
   "source": [
    "# 初始化模型参数\n",
    "# 模型参数的访问、初始化和共享\n",
    "import torch\n",
    "from torch import nn\n",
    "from torch.nn import init\n",
    "\n",
    "net = nn.Sequential(nn.Linear(4,3),nn.ReLU(),nn.Linear(3,1))\n",
    "# print(net)\n",
    "X = torch.rand(2,4)\n",
    "Y = net(X).sum()\n",
    "\n",
    "# for name,param in net.named_parameters():\n",
    "#     if 'weight' in name: # 高斯分布初始化权重\n",
    "#         init.normal_(param,mean=0,std=0.01)\n",
    "#         print(name,param.data)\n",
    "#     if 'bias' in name:  # 偏置清零\n",
    "#         init.constant_(param,val=0)\n",
    "#         print(name,param.data)\n",
    "        \n",
    "# 自定义初始化方法\n",
    "def normal_(tensor,mean=0,std=0.01):\n",
    "    with torch.no_grad():\n",
    "        return tensor.normal_(mean,std)\n",
    "\n",
    "def init_weight(tensor):\n",
    "    with torch.no_grad():\n",
    "        tensor.uniform_(-10,10)\n",
    "        tensor *= (tensor.abs() >= 5).float()\n",
    "        \n",
    "for name,param in net.named_parameters():\n",
    "    if 'weight' in name:\n",
    "        init_weight(param)\n",
    "        print(name,param.data)\n"
   ]
  },
  {
   "cell_type": "code",
   "execution_count": 22,
   "metadata": {},
   "outputs": [
    {
     "name": "stdout",
     "output_type": "stream",
     "text": [
      "Sequential(\n",
      "  (0): Linear(in_features=1, out_features=1, bias=False)\n",
      "  (1): Linear(in_features=1, out_features=1, bias=False)\n",
      ")\n",
      "0.weight Parameter containing:\n",
      "tensor([[1.]], requires_grad=True)\n",
      "True\n",
      "True\n"
     ]
    }
   ],
   "source": [
    "# 初始化模型参数\n",
    "# 模型参数的访问、初始化和共享\n",
    "import torch\n",
    "from torch import nn\n",
    "from torch.nn import init\n",
    "\n",
    "# 参数共享\n",
    "linear = nn.Linear(1,1,bias=False)\n",
    "net = nn.Sequential(linear,linear)\n",
    "print(net)\n",
    "for name,param in net.named_parameters():\n",
    "    init.constant_(param,val=1)\n",
    "    print(name,param)\n",
    "    \n",
    "print(id(net[0]) == id(net[1]))\n",
    "print(id(net[0].weight) == id(net[1].weight))"
   ]
  },
  {
   "cell_type": "code",
   "execution_count": null,
   "metadata": {},
   "outputs": [],
   "source": []
  }
 ],
 "metadata": {
  "kernelspec": {
   "display_name": "Python 3",
   "language": "python",
   "name": "python3"
  },
  "language_info": {
   "codemirror_mode": {
    "name": "ipython",
    "version": 3
   },
   "file_extension": ".py",
   "mimetype": "text/x-python",
   "name": "python",
   "nbconvert_exporter": "python",
   "pygments_lexer": "ipython3",
   "version": "3.7.4"
  }
 },
 "nbformat": 4,
 "nbformat_minor": 2
}
