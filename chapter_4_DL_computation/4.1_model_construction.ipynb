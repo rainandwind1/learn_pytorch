{
 "cells": [
  {
   "cell_type": "code",
   "execution_count": 4,
   "metadata": {},
   "outputs": [
    {
     "name": "stdout",
     "output_type": "stream",
     "text": [
      "MLP(\n",
      "  (hidden): Linear(in_features=784, out_features=256, bias=True)\n",
      "  (act): ReLU()\n",
      "  (output): Linear(in_features=256, out_features=10, bias=True)\n",
      ")\n"
     ]
    },
    {
     "data": {
      "text/plain": [
       "tensor([[ 0.0639,  0.1164,  0.0348, -0.0881,  0.0459,  0.1161,  0.1071, -0.2703,\n",
       "         -0.0498, -0.0666],\n",
       "        [-0.0434,  0.0906, -0.0567, -0.1475, -0.0518, -0.0238,  0.0236, -0.2111,\n",
       "         -0.1439, -0.1320]], grad_fn=<AddmmBackward>)"
      ]
     },
     "execution_count": 4,
     "metadata": {},
     "output_type": "execute_result"
    }
   ],
   "source": [
    "# 基于Module类的模型构造方法，让模型构造更加灵活\n",
    "import torch\n",
    "from torch import nn\n",
    "\n",
    "class MLP(nn.Module):\n",
    "    def __init__(self,**kwargs):\n",
    "        super(MLP,self).__init__(**kwargs)\n",
    "        self.hidden = nn.Linear(784,256)\n",
    "        self.act = nn.ReLU()\n",
    "        self.output = nn.Linear(256,10)\n",
    "        \n",
    "    def forward(self,x):\n",
    "        a = self.act(self.hidden(x))\n",
    "        return self.output(a)\n",
    "    \n",
    "x = torch.rand(2,784)\n",
    "net = MLP()\n",
    "print(net)\n",
    "net(x)"
   ]
  },
  {
   "cell_type": "code",
   "execution_count": 12,
   "metadata": {},
   "outputs": [
    {
     "name": "stdout",
     "output_type": "stream",
     "text": [
      "MySequential(\n",
      "  (0): Linear(in_features=784, out_features=256, bias=True)\n",
      "  (1): ReLU()\n",
      "  (2): Linear(in_features=256, out_features=10, bias=True)\n",
      ")\n"
     ]
    }
   ],
   "source": [
    "# 基于Module类的模型构造方法，让模型构造更加灵活\n",
    "import torch\n",
    "from torch import nn\n",
    "\n",
    "# Module类的子类 Sequential、ModuleList、ModuleDict等\n",
    "# Sequrntial 定义一个MySequential类来了解工作机制\n",
    "class MySequential(nn.Module):\n",
    "    from collections import OrderedDict\n",
    "    def __init__(self,*args):\n",
    "        super(MySequential,self).__init__()\n",
    "        if len(args) == 1 and isinstance(args[0],OrderedDict):\n",
    "            for key, module in args[0].items():\n",
    "                self.add_module(key,module)\n",
    "        else:\n",
    "            for idx,module in enumerate(args):\n",
    "                self.add_module(str(idx),module)\n",
    "                    \n",
    "    def forward(self,input):\n",
    "        for module in self._modules.values():\n",
    "            input = module(input)\n",
    "        return input\n",
    "\n",
    "net = MySequential(\n",
    "    nn.Linear(784,256),\n",
    "    nn.ReLU(),\n",
    "    nn.Linear(256,10),\n",
    ")\n",
    "\n",
    "print(net)"
   ]
  },
  {
   "cell_type": "code",
   "execution_count": 16,
   "metadata": {},
   "outputs": [
    {
     "name": "stdout",
     "output_type": "stream",
     "text": [
      "net1\n",
      "torch.Size([10, 10])\n",
      "torch.Size([10])\n",
      "net2\n"
     ]
    }
   ],
   "source": [
    "# 基于Module类的模型构造方法，让模型构造更加灵活\n",
    "import torch\n",
    "from torch import nn\n",
    "\n",
    "# ModuleList类\n",
    "net = nn.ModuleList([nn.Linear(784,256),nn.ReLU()])\n",
    "net.append(nn.Linear(256,10))\n",
    "# print(net[-1])\n",
    "# print(net)\n",
    "\n",
    "# ModuleList与Sequential的区别：ModuleList中的模块的连接顺序没有确定，而Sequential\n",
    "# 中模块间的前后顺序是确定的，并且Sequential中已经自带forward（前向计算）功能，ModuleList\n",
    "# 中没有\n",
    "\n",
    "class MyModule(nn.Module):\n",
    "    def __init__(self):\n",
    "        super(MyModule,self).__init__()\n",
    "        self.linears = nn.ModuleList([nn.Linear(10,10) for i in range(10)])\n",
    "        \n",
    "    def forward(self,x):\n",
    "        for i,l in enumerate(self.linears):\n",
    "            x = self.linears[i // 2](x) + l(x)\n",
    "        return x\n",
    "    \n",
    "class Module_ModuleList(nn.Module):\n",
    "    def __init__(self):\n",
    "        super(Module_ModuleList,self).__init__()\n",
    "        self.linears = nn.ModuleList([nn.Linear(10,10)])\n",
    "\n",
    "class Module_List(nn.Module):\n",
    "    def __init__(self):\n",
    "        super(Module_List,self).__init__()\n",
    "        self.linears = [nn.Linear(10,10)]\n",
    "        \n",
    "    \n",
    "net1 = Module_ModuleList()\n",
    "net2 = Module_List()\n",
    "\n",
    "print(\"net1\")\n",
    "for p in net1.parameters():\n",
    "    print(p.size())\n",
    "print(\"net2\")\n",
    "for p in net2.parameters():\n",
    "    print(p.size())\n",
    "\n",
    "\n"
   ]
  },
  {
   "cell_type": "code",
   "execution_count": 17,
   "metadata": {},
   "outputs": [
    {
     "name": "stdout",
     "output_type": "stream",
     "text": [
      "Linear(in_features=784, out_features=256, bias=True)\n",
      "Linear(in_features=256, out_features=10, bias=True)\n",
      "ModuleDict(\n",
      "  (act): ReLU()\n",
      "  (linear): Linear(in_features=784, out_features=256, bias=True)\n",
      "  (output): Linear(in_features=256, out_features=10, bias=True)\n",
      ")\n"
     ]
    }
   ],
   "source": [
    "# 基于Module类的模型构造方法，让模型构造更加灵活\n",
    "import torch\n",
    "from torch import nn\n",
    "# ModuleDict类\n",
    "# Module接收一个子模块的字典作为输入，然后也可以类似字典那样进行访问和添加操作\n",
    "net = nn.ModuleDict({\n",
    "    'linear':nn.Linear(784,256),\n",
    "    'act':nn.ReLU(),\n",
    "})\n",
    "\n",
    "net['output'] = nn.Linear(256,10)\n",
    "print(net['linear'])\n",
    "print(net.output)\n",
    "print(net)\n",
    "\n",
    "\n"
   ]
  },
  {
   "cell_type": "code",
   "execution_count": 18,
   "metadata": {},
   "outputs": [
    {
     "name": "stdout",
     "output_type": "stream",
     "text": [
      "FancyMLP(\n",
      "  (linear): Linear(in_features=20, out_features=20, bias=True)\n",
      ")\n"
     ]
    },
    {
     "data": {
      "text/plain": [
       "tensor(16.0080, grad_fn=<SumBackward0>)"
      ]
     },
     "execution_count": 18,
     "metadata": {},
     "output_type": "execute_result"
    }
   ],
   "source": [
    "# 基于Module类的模型构造方法，让模型构造更加灵活\n",
    "import torch\n",
    "from torch import nn\n",
    "# 构造复杂的模型\n",
    "\n",
    "class FancyMLP(nn.Module):\n",
    "    def __init__(self):\n",
    "        super(FancyMLP,self).__init__()\n",
    "        self.rand_weight = torch.rand((20,20),requires_grad=False)\n",
    "        self.linear = nn.Linear(20,20)\n",
    "        \n",
    "    def forward(self,x):\n",
    "        x = self.linear(x)\n",
    "        x = nn.functional.relu(torch.mm(x,self.rand_weight) + 1)\n",
    "        \n",
    "        x = self.linear(x)# 复用全连接层，相当于两个全连接层共享参数\n",
    "        while x.norm().item() > 1:\n",
    "            x /= 2\n",
    "        if x.norm().item() < 0.8:\n",
    "            x *= 10\n",
    "        return x.sum()\n",
    "    \n",
    "X = torch.rand(2,20)\n",
    "net = FancyMLP()\n",
    "print(net)\n",
    "net(X)"
   ]
  },
  {
   "cell_type": "code",
   "execution_count": 20,
   "metadata": {},
   "outputs": [
    {
     "name": "stdout",
     "output_type": "stream",
     "text": [
      "Sequential(\n",
      "  (0): NestMLP(\n",
      "    (net): Sequential(\n",
      "      (0): Linear(in_features=40, out_features=30, bias=True)\n",
      "      (1): ReLU()\n",
      "    )\n",
      "  )\n",
      "  (1): Linear(in_features=30, out_features=20, bias=True)\n",
      "  (2): FancyMLP(\n",
      "    (linear): Linear(in_features=20, out_features=20, bias=True)\n",
      "  )\n",
      ")\n"
     ]
    },
    {
     "data": {
      "text/plain": [
       "tensor(2.1981, grad_fn=<SumBackward0>)"
      ]
     },
     "execution_count": 20,
     "metadata": {},
     "output_type": "execute_result"
    }
   ],
   "source": [
    "# 基于Module类的模型构造方法，让模型构造更加灵活\n",
    "import torch\n",
    "from torch import nn\n",
    "# Fancy和Sequential都是Module的子类，我们可以嵌套调用他们\n",
    "\n",
    "# class FancyMLP(nn.Module):\n",
    "#     def __init__(self):\n",
    "#         super(FancyMLP,self).__init__()\n",
    "#         self.rand_weight = torch.rand((20,20),requires_grad=False)\n",
    "#         self.linear = nn.Linear(20,20)\n",
    "        \n",
    "#     def forward(self,x):\n",
    "#         x = self.linear(x)\n",
    "#         x = nn.functional.relu(torch.mm(x,self.rand_weight) + 1)\n",
    "        \n",
    "#         x = self.linear(x)# 复用全连接层，相当于两个全连接层共享参数\n",
    "#         while x.norm().item() > 1:\n",
    "#             x /= 2\n",
    "#         if x.norm().item() < 0.8:\n",
    "#             x *= 10\n",
    "#         return x.sum()\n",
    "    \n",
    "class NestMLP(nn.Module):\n",
    "    def __init__(self,**kargs):\n",
    "        super(NestMLP,self).__init__(**kargs)\n",
    "        self.net = nn.Sequential(nn.Linear(40,30),nn.ReLU())\n",
    "        \n",
    "    def forward(self,x):\n",
    "        return self.net(x)\n",
    "\n",
    "net = nn.Sequential(NestMLP(),nn.Linear(30,20),FancyMLP())\n",
    "\n",
    "x = torch.rand(2,40)\n",
    "print(net)\n",
    "net(x)"
   ]
  },
  {
   "cell_type": "code",
   "execution_count": null,
   "metadata": {},
   "outputs": [],
   "source": []
  }
 ],
 "metadata": {
  "kernelspec": {
   "display_name": "Python 3",
   "language": "python",
   "name": "python3"
  },
  "language_info": {
   "codemirror_mode": {
    "name": "ipython",
    "version": 3
   },
   "file_extension": ".py",
   "mimetype": "text/x-python",
   "name": "python",
   "nbconvert_exporter": "python",
   "pygments_lexer": "ipython3",
   "version": "3.7.4"
  }
 },
 "nbformat": 4,
 "nbformat_minor": 2
}
