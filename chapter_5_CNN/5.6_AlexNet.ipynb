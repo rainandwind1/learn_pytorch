{
 "cells": [
  {
   "cell_type": "code",
   "execution_count": 1,
   "metadata": {},
   "outputs": [
    {
     "name": "stdout",
     "output_type": "stream",
     "text": [
      "AlexNet(\n",
      "  (conv): Sequential(\n",
      "    (0): Conv2d(1, 96, kernel_size=(11, 11), stride=(4, 4))\n",
      "    (1): ReLU()\n",
      "    (2): MaxPool2d(kernel_size=3, stride=2, padding=0, dilation=1, ceil_mode=False)\n",
      "    (3): Conv2d(96, 256, kernel_size=(5, 5), stride=(1, 1), padding=(2, 2))\n",
      "    (4): ReLU()\n",
      "    (5): MaxPool2d(kernel_size=3, stride=2, padding=0, dilation=1, ceil_mode=False)\n",
      "    (6): Conv2d(256, 384, kernel_size=(3, 3), stride=(1, 1), padding=(1, 1))\n",
      "    (7): ReLU()\n",
      "    (8): Conv2d(384, 384, kernel_size=(3, 3), stride=(1, 1), padding=(1, 1))\n",
      "    (9): ReLU()\n",
      "    (10): Conv2d(384, 256, kernel_size=(3, 3), stride=(1, 1), padding=(1, 1))\n",
      "    (11): ReLU()\n",
      "    (12): MaxPool2d(kernel_size=3, stride=2, padding=0, dilation=1, ceil_mode=False)\n",
      "  )\n",
      "  (fc): Sequential(\n",
      "    (0): Linear(in_features=6400, out_features=4096, bias=True)\n",
      "    (1): ReLU()\n",
      "    (2): Dropout(p=0.5, inplace=False)\n",
      "    (3): Linear(in_features=4096, out_features=4096, bias=True)\n",
      "    (4): ReLU()\n",
      "    (5): Dropout(p=0.5, inplace=False)\n",
      "    (6): Linear(in_features=4096, out_features=10, bias=True)\n",
      "  )\n",
      ")\n"
     ]
    }
   ],
   "source": [
    "# 图像分类的着手途径：\n",
    "# 1.直接使用卷积神经网络类似LeNet那样的端到端的方法，根据图像的原始像素输入，做简单的\n",
    "# 数据处理后得到分类结果，算力要求比较大。\n",
    "# 2.使用人工特征提取函数（滤波器）首先提取对图像输入提取特征，然后使用机器学习的方法，对\n",
    "# 提取的特征进行分类，其实这个过程已经包含在了卷积神经网络的隐含层中，但卷积神经网络中\n",
    "# 的滤波器是学习出来的。\n",
    "# 有时比较干净的数据集和有效的特征比单纯的提高分类器的效率更有效\n",
    "\n",
    "# 学习特征表示\n",
    "# 多层神经网络可以学习得到数据的多级表征，并且逐级表示越来越抽象的概念或是模式。\n",
    "# 神经网络端到端的学习（即特征提取包含在内）的发展受到限制的几个因素：\n",
    "# 1.数据：ImageNet数据集的产生推动了计算机视觉和机器学习的研究\n",
    "# 2.硬件：GPU OpenCL和CUDA之类的编程框架\n",
    "\n",
    "# AlexNet 8层卷积神经网络 与LeNet类似，但是有显著的特征\n",
    "# 有5层卷积和2层全连接隐层，以及1个全连接输出层\n",
    "\n",
    "# AlexNet的优势\n",
    "# 1.卷积层数更深，对特征的抽象能力更强\n",
    "# 2.采用ReLU激活函数缓解了梯度消失的影响\n",
    "# 3.使用了Dropout技巧\n",
    "# 4.使用了大量的图像增广，如翻转，裁剪和颜色变化，从而进一步扩大数据集来缓解过拟合\n",
    "\n",
    "# 简化版本的AlexNet\n",
    "import time\n",
    "import torch\n",
    "from torch import nn,optim\n",
    "import torchvision\n",
    "\n",
    "import sys\n",
    "sys.path.append(\"..\")\n",
    "import d2lzh_pytorch as d2l\n",
    "device = torch.device('cuda' if torch.cuda.is_available() else 'cpu')\n",
    "\n",
    "class AlexNet(nn.Module):\n",
    "    \n",
    "    def __init__(self):\n",
    "        super(AlexNet,self).__init__()\n",
    "        self.conv = nn.Sequential(\n",
    "            # 第一层卷积层\n",
    "            nn.Conv2d(1,96,11,4),\n",
    "            nn.ReLU(),\n",
    "            nn.MaxPool2d(3,2), #kernel_size ,stride\n",
    "            #第二层卷积层\n",
    "            nn.Conv2d(96,256,5,1,2),\n",
    "            nn.ReLU(),\n",
    "            nn.MaxPool2d(3,2),\n",
    "            # 第三层卷积层\n",
    "            nn.Conv2d(256,384,3,1,1),\n",
    "            nn.ReLU(),\n",
    "            # 第四层卷积层\n",
    "            nn.Conv2d(384,384,3,1,1),\n",
    "            nn.ReLU(),\n",
    "            # 第五层卷积层\n",
    "            nn.Conv2d(384,256,3,1,1),\n",
    "            nn.ReLU(),\n",
    "            nn.MaxPool2d(3,2)\n",
    "        )\n",
    "        self.fc = nn.Sequential(\n",
    "            # 第一个隐层\n",
    "            nn.Linear(256*5*5,4096),\n",
    "            nn.ReLU(),\n",
    "            nn.Dropout(0.5),\n",
    "            # 第二个隐层\n",
    "            nn.Linear(4096,4096),\n",
    "            nn.ReLU(),\n",
    "            nn.Dropout(0.5),\n",
    "            # 最后的全连接输出层\n",
    "            nn.Linear(4096,10),\n",
    "        )\n",
    "        \n",
    "    def forward(self,img):\n",
    "        feature = self.conv(img)\n",
    "        output = self.fc(feature.view(img.shape[0],-1))\n",
    "        return output\n",
    "    \n",
    "    \n",
    "net = AlexNet()\n",
    "print(net)\n",
    "\n",
    "\n"
   ]
  },
  {
   "cell_type": "code",
   "execution_count": 2,
   "metadata": {},
   "outputs": [],
   "source": [
    "# 读取数据\n",
    "def load_data_fashion_mnist(batch_size,resize=None,root = '~/Datasets/FashionMNIST'):\n",
    "    trans = []\n",
    "    if resize:\n",
    "        trans.append(torchvision.transforms.Resize(size=resize))\n",
    "    trans.append(torchvision.transforms.ToTensor())\n",
    "    transform = torchvision.transforms.Compose(trans)\n",
    "    mnist_train = torchvision.datasets.FashionMNIST(root=root,train = True,download=True,transform=transform)\n",
    "    mnist_test = torchvision.datasets.FashionMNIST(root=root,train = False,download=True,transform=transform)\n",
    "    train_iter = torch.utils.data.DataLoader(mnist_train,batch_size=batch_size,shuffle=True,num_workers=4)\n",
    "    test_iter = torch.utils.data.DataLoader(mnist_test,batch_size=batch_size,shuffle=True,num_workers=4)\n",
    "    return train_iter,test_iter\n",
    "\n",
    "batch_size = 128\n",
    "train_iter,test_iter = load_data_fashion_mnist(batch_size,resize=224)\n",
    "\n"
   ]
  },
  {
   "cell_type": "code",
   "execution_count": null,
   "metadata": {},
   "outputs": [
    {
     "name": "stdout",
     "output_type": "stream",
     "text": [
      "training on  cpu\n"
     ]
    }
   ],
   "source": [
    "# 训练\n",
    "lr,num_epochs = 0.001,5\n",
    "optimizer = torch.optim.Adam(net.parameters(),lr = lr)\n",
    "d2l.train_ch5(net,train_iter,test_iter,batch_size,optimizer,device,num_epochs)"
   ]
  },
  {
   "cell_type": "code",
   "execution_count": null,
   "metadata": {},
   "outputs": [],
   "source": []
  },
  {
   "cell_type": "code",
   "execution_count": null,
   "metadata": {},
   "outputs": [],
   "source": []
  }
 ],
 "metadata": {
  "kernelspec": {
   "display_name": "Python 3",
   "language": "python",
   "name": "python3"
  },
  "language_info": {
   "codemirror_mode": {
    "name": "ipython",
    "version": 3
   },
   "file_extension": ".py",
   "mimetype": "text/x-python",
   "name": "python",
   "nbconvert_exporter": "python",
   "pygments_lexer": "ipython3",
   "version": "3.7.4"
  }
 },
 "nbformat": 4,
 "nbformat_minor": 2
}
