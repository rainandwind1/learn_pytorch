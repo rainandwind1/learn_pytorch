{
 "cells": [
  {
   "cell_type": "code",
   "execution_count": 3,
   "metadata": {},
   "outputs": [],
   "source": [
    "# NIN 网络中的网络，串联多个由卷积层和全连接层构成的小网络来构建一个深层网络\n",
    "# AlexNet和VGG在网络的宽度（通道数）和深度层次上扩展了LeNet，NIN则彻底分成整个分类块\n",
    "# 的层次上进行拓展LeNet\n",
    "\n",
    "# NiN块 使用三层卷积层但是最后不再使用全连接层，，最后一层卷积层的输出通道数\n",
    "# 设置成分类的个数，并且使用全局平均池化操作作为输出进行分类\n",
    "import time\n",
    "import torch\n",
    "from torch import nn,optim\n",
    "import sys\n",
    "sys.path.append(\"..\")\n",
    "import d2lzh_pytorch as d2l\n",
    "device = torch.device('cuda' if torch.cuda.is_available() else 'cpu')\n",
    "\n",
    "def nin_block(in_channels, out_channels, kernel_size, stride, padding):\n",
    "    blk = nn.Sequential(nn.Conv2d(in_channels, out_channels, kernel_size, stride, padding),\n",
    "                        nn.ReLU(),\n",
    "                        nn.Conv2d(out_channels, out_channels, kernel_size=1),\n",
    "                        nn.ReLU(),\n",
    "                        nn.Conv2d(out_channels, out_channels, kernel_size=1),\n",
    "                        nn.ReLU())\n",
    "    return blk"
   ]
  },
  {
   "cell_type": "code",
   "execution_count": 4,
   "metadata": {},
   "outputs": [
    {
     "name": "stdout",
     "output_type": "stream",
     "text": [
      "0 output shape:  torch.Size([1, 96, 54, 54])\n",
      "1 output shape:  torch.Size([1, 96, 26, 26])\n",
      "2 output shape:  torch.Size([1, 256, 26, 26])\n",
      "3 output shape:  torch.Size([1, 256, 12, 12])\n",
      "4 output shape:  torch.Size([1, 384, 12, 12])\n",
      "5 output shape:  torch.Size([1, 384, 5, 5])\n",
      "6 output shape:  torch.Size([1, 384, 5, 5])\n",
      "7 output shape:  torch.Size([1, 10, 3, 3])\n",
      "8 output shape:  torch.Size([1, 10, 1, 1])\n",
      "9 output shape:  torch.Size([1, 10])\n"
     ]
    }
   ],
   "source": [
    "import torch.nn.functional as F\n",
    "class GlobalAvgPool2d(nn.Module):\n",
    "    def __init__(self):\n",
    "        super(GlobalAvgPool2d,self).__init__()\n",
    "        \n",
    "    def forward(self,X):\n",
    "        return F.avg_pool2d(X,kernel_size = X.size()[2:])\n",
    "    \n",
    "net = nn.Sequential(\n",
    "    nin_block(1,96,kernel_size = 11,stride=4,padding = 0),\n",
    "    nn.MaxPool2d(kernel_size=3,stride=2),\n",
    "    \n",
    "    nin_block(96,256,kernel_size = 5,stride=1,padding = 2),\n",
    "    nn.MaxPool2d(kernel_size=3,stride=2),\n",
    "    \n",
    "    nin_block(256,384,kernel_size = 3,stride=1,padding = 1),\n",
    "    nn.MaxPool2d(kernel_size=3,stride=2),\n",
    "    \n",
    "    nn.Dropout(0.5),\n",
    "    nin_block(384,10,kernel_size=3,stride=1,padding=0),\n",
    "    GlobalAvgPool2d(),\n",
    "    d2l.FlattenLayer()\n",
    ")\n",
    "\n",
    "X = torch.rand(1, 1, 224, 224)\n",
    "for name, blk in net.named_children(): \n",
    "    X = blk(X)\n",
    "    print(name, 'output shape: ', X.shape)"
   ]
  },
  {
   "cell_type": "code",
   "execution_count": null,
   "metadata": {},
   "outputs": [
    {
     "name": "stdout",
     "output_type": "stream",
     "text": [
      "training on  cpu\n"
     ]
    }
   ],
   "source": [
    "# 获取数据和训练模型\n",
    "batch_size = 128\n",
    "train_iter,test_iter = d2l.load_data_fashion_mnist(batch_size,resize=224)\n",
    "\n",
    "lr,num_epochs = 0.002,5\n",
    "optimizer = torch.optim.Adam(net.parameters(),lr = lr)\n",
    "d2l.train_ch5(net,train_iter,test_iter,batch_size,optimizer,device,num_epochs)\n"
   ]
  },
  {
   "cell_type": "code",
   "execution_count": null,
   "metadata": {},
   "outputs": [],
   "source": [
    "# 这里总结一下NIN与vgg的主要区别\n",
    "# NIN与vgg都使用卷积块的思想，但是vgg是完整的卷积块，每个卷积块\n",
    "# 跟一个池化层，而NIN块中没有池化层，而是在所有卷积块之后统一使用一个池化层代替vgg中的\n",
    "# 最后的全连接层，进行直接分类。\n",
    "#"
   ]
  },
  {
   "cell_type": "code",
   "execution_count": null,
   "metadata": {},
   "outputs": [],
   "source": []
  }
 ],
 "metadata": {
  "kernelspec": {
   "display_name": "Python 3",
   "language": "python",
   "name": "python3"
  },
  "language_info": {
   "codemirror_mode": {
    "name": "ipython",
    "version": 3
   },
   "file_extension": ".py",
   "mimetype": "text/x-python",
   "name": "python",
   "nbconvert_exporter": "python",
   "pygments_lexer": "ipython3",
   "version": "3.7.4"
  }
 },
 "nbformat": 4,
 "nbformat_minor": 2
}
