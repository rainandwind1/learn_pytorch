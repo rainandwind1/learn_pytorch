{
 "cells": [
  {
   "cell_type": "code",
   "execution_count": null,
   "metadata": {},
   "outputs": [],
   "source": [
    "# 批量标准化\n",
    "# 为了应对深度模型训练的挑战，在训练模型时，批量归一化利用小批量的\n",
    "# 上的均值和标准差，不断调整神经网络中间输出，从而使整个神经网络在各层的\n",
    "# 的中间输出的数值更加稳定。\n",
    "# 批量归一化和残差网络为训练和设计深度模型提供了两类重要的思路\n",
    "\n",
    "# 批量归一化层\n",
    "# 对全连接层和卷积层做批量归一化的方法稍有不同\n",
    "\n",
    "# 对全连接层的批量归一化\n",
    "# 仿射变换之后，激活函数之前，f（BN(x)）,X_hat = BN(x)引入了两个参数，拉伸参数gamma和偏移参数beta\n",
    "# 这两个参数和X_hat的形状相同,按照元素乘法和加法运算，这两个参数是可学习的，并且按照理论，\n",
    "# 如果学出来的gamma和beta满足最终的y与x相同，则表示学出的模型没有批量归一化的必要，符合逻辑\n",
    "\n",
    "# 对卷积层的批量归一化\n",
    "# 在卷积计算之后，应用激活函数之前，如果卷及计算输出多个通道，需要对这些通道的输出分别做批量归一化\n",
    "# 每个通道都有独立的拉伸和偏移参数，均为标量。\n",
    "\n",
    "# 预测时的批量归一化\n",
    "# 从零开始实现"
   ]
  }
 ],
 "metadata": {
  "kernelspec": {
   "display_name": "Python 3",
   "language": "python",
   "name": "python3"
  },
  "language_info": {
   "codemirror_mode": {
    "name": "ipython",
    "version": 3
   },
   "file_extension": ".py",
   "mimetype": "text/x-python",
   "name": "python",
   "nbconvert_exporter": "python",
   "pygments_lexer": "ipython3",
   "version": "3.7.4"
  }
 },
 "nbformat": 4,
 "nbformat_minor": 2
}
