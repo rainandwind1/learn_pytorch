{
 "cells": [
  {
   "cell_type": "code",
   "execution_count": 8,
   "metadata": {},
   "outputs": [
    {
     "name": "stdout",
     "output_type": "stream",
     "text": [
      "torch.Size([35, 2, 256]) 1 torch.Size([2, 256])\n"
     ]
    },
    {
     "data": {
      "text/plain": [
       "'分开呵随呵随呵随呵随呵随'"
      ]
     },
     "execution_count": 8,
     "metadata": {},
     "output_type": "execute_result"
    }
   ],
   "source": [
    "# 循环神经网络的pytorch的简洁实现\n",
    "import time\n",
    "import math\n",
    "import numpy as np\n",
    "import torch\n",
    "from torch import nn, optim\n",
    "import torch.nn.functional as F\n",
    "\n",
    "import sys\n",
    "sys.path.append(\"..\") \n",
    "import d2lzh_pytorch as d2l\n",
    "device = torch.device('cuda' if torch.cuda.is_available() else 'cpu')\n",
    "\n",
    "(corpus_indices, char_to_idx, idx_to_char, vocab_size) = d2l.load_data_jay_lyrics()\n",
    "\n",
    "# 定义模型\n",
    "num_hiddens = 256\n",
    "# rnn_layer = nn.LSTM(input_size = vocab_size,hidden_size = num_hiddens) # ?\n",
    "rnn_layer = nn.RNN(input_size=vocab_size,hidden_size=num_hiddens) # 输入为时间步数、批量大小、输入个数（词典长度）\n",
    "\n",
    "\n",
    "num_steps = 35\n",
    "batch_size = 2\n",
    "state = None\n",
    "X = torch.rand(num_steps,batch_size,vocab_size)\n",
    "Y,state_new = rnn_layer(X,state)\n",
    "print(Y.shape,len(state_new),state_new[0].shape)\n",
    "\n",
    "# 接下来继承Module类实现一个完整的循环神经网络\n",
    "class RNNModel(nn.Module):\n",
    "    def __init__(self,rnn_layer,vocab_size):\n",
    "        super(RNNModel,self).__init__()\n",
    "        self.rnn_layer = rnn_layer\n",
    "        self.hidden_size = rnn_layer.hidden_size*(2 if rnn_layer.bidirectional else 1)\n",
    "        self.vocab_size = vocab_size\n",
    "        self.dense = nn.Linear(self.hidden_size,vocab_size)\n",
    "        self.state = None\n",
    "    \n",
    "    def forward(self,inputs,state):\n",
    "        # 获取one-hot向量表示\n",
    "        X = d2l.to_onehot(inputs,self.vocab_size)\n",
    "        Y,self.state = self.rnn_layer(torch.stack(X),state)\n",
    "        output = self.dense(Y.view(-1,Y.shape[-1]))\n",
    "        return output,self.state\n",
    "    \n",
    "# 训练模型\n",
    "def predict_rnn_pytorch(prefix,num_chars,model,vocab_size,device,idx_to_char,char_to_idx):\n",
    "    state = None\n",
    "    output = [char_to_idx[prefix[0]]]\n",
    "    for t in range(num_chars+len(prefix) - 1):\n",
    "        X = torch.tensor([output[-1]],device=device).view(1,1)\n",
    "        if state is not None:\n",
    "            if isinstance(state,tuple):# LSTM ,state:(h,c)\n",
    "                state = (state[0].to(device),statea[1].to(device))\n",
    "            else:\n",
    "                state = state.to(device)\n",
    "        (Y,state) = model(X,state)\n",
    "        if t < len(prefix) - 1:\n",
    "            output.append(char_to_idx[prefix[t+1]])\n",
    "        else:\n",
    "            output.append(int(Y.argmax(dim = 1).item()))\n",
    "            \n",
    "    return ''.join([idx_to_char[i] for i in output])\n",
    "\n",
    "# 随机初始的权重来试验一下\n",
    "model = RNNModel(rnn_layer, vocab_size).to(device)\n",
    "predict_rnn_pytorch('分开', 10, model, vocab_size, device, idx_to_char, char_to_idx)\n",
    "        "
   ]
  },
  {
   "cell_type": "code",
   "execution_count": null,
   "metadata": {},
   "outputs": [],
   "source": [
    "# 接下来实现训练函数，使用了相邻采样来读取数据\n",
    "def train_and_predict_rnn_pytorch(model,num_hiddens,vocab_size,device,\n",
    "                                 corpus_indices,idx_to_char,char_to_idx,\n",
    "                                 num_epochs,num_steps,lr,clipping_theta,# 梯度裁剪\n",
    "                                 batch_size,pred_period,pred_len,prefixes):\n",
    "    loss = nn.CrossEntropyLoss()\n",
    "    "
   ]
  },
  {
   "cell_type": "code",
   "execution_count": null,
   "metadata": {},
   "outputs": [],
   "source": []
  },
  {
   "cell_type": "code",
   "execution_count": null,
   "metadata": {},
   "outputs": [],
   "source": []
  }
 ],
 "metadata": {
  "kernelspec": {
   "display_name": "Python 3",
   "language": "python",
   "name": "python3"
  },
  "language_info": {
   "codemirror_mode": {
    "name": "ipython",
    "version": 3
   },
   "file_extension": ".py",
   "mimetype": "text/x-python",
   "name": "python",
   "nbconvert_exporter": "python",
   "pygments_lexer": "ipython3",
   "version": "3.7.4"
  }
 },
 "nbformat": 4,
 "nbformat_minor": 2
}
