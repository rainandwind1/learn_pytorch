{
 "cells": [
  {
   "cell_type": "code",
   "execution_count": 6,
   "metadata": {},
   "outputs": [
    {
     "name": "stdout",
     "output_type": "stream",
     "text": [
      "epoch 1, loss 0.0046, train acc 0.540, test acc 0.721\n",
      "epoch 2, loss 0.0023, train acc 0.784, test acc 0.777\n",
      "epoch 3, loss 0.0019, train acc 0.821, test acc 0.809\n",
      "epoch 4, loss 0.0018, train acc 0.836, test acc 0.830\n",
      "epoch 5, loss 0.0016, train acc 0.847, test acc 0.837\n"
     ]
    }
   ],
   "source": [
    "# 从零开始实现 dropout\n",
    "import torch\n",
    "import torch.nn as nn\n",
    "import numpy as np\n",
    "import sys\n",
    "sys.path.append(\"..\")\n",
    "import d2lzh_pytorch as d2l\n",
    "\n",
    "def dropout(x,drop_prob):\n",
    "    X = x.float()\n",
    "    assert 0<=drop_prob<=1\n",
    "    keep_prob = 1 - drop_prob\n",
    "    if keep_prob == 0:\n",
    "        return torch.zeros_like(x)\n",
    "    mask = (torch.rand(X.shape) < keep_prob).float()\n",
    "    return mask*X/keep_prob\n",
    "\n",
    "# a = torch.tensor([1,2,3])\n",
    "# print(torch.zeros_like(a))\n",
    "# print(dropout(torch.arange(16).view((4,4)),0.3))\n",
    "\n",
    "# 定义模型参数\n",
    "num_inputs,num_outputs,num_hidden1,num_hidden2 = 784,10,256,256\n",
    "\n",
    "w1 = torch.tensor(np.random.normal(0,0.01,size = (num_inputs,num_hidden1)),dtype = torch.float,requires_grad = True)\n",
    "b1 = torch.zeros(num_hidden1,requires_grad = True) \n",
    "\n",
    "w2 = torch.tensor(np.random.normal(0,0.01,size = (num_hidden1,num_hidden2)),dtype = torch.float,requires_grad = True)\n",
    "b2 = torch.zeros(num_hidden2,requires_grad = True) \n",
    "\n",
    "w3 = torch.tensor(np.random.normal(0,0.01,size = (num_hidden2,num_outputs)),dtype = torch.float,requires_grad = True)\n",
    "b3 = torch.zeros(num_outputs,requires_grad = True) \n",
    "\n",
    "params = [w1,b1,w2,b2,w3,b3]\n",
    "\n",
    "# 定义模型\n",
    "drop_prob1,drop_prob2 = 0.2,0.5\n",
    "def net(x,is_training = True):\n",
    "    x = x.view((-1,num_inputs))\n",
    "    H1 = (torch.matmul(x,w1) + b1).relu()\n",
    "    if is_training:\n",
    "        H1 = dropout(H1,drop_prob1)\n",
    "    \n",
    "    H2 = (torch.matmul(H1,w2) + b2).relu()\n",
    "    if is_training:\n",
    "        H2 = dropout(H2,drop_prob2)\n",
    "    return torch.matmul(H2,w3) + b3\n",
    "\n",
    "def evaluate_accuracy(data_iter,net):\n",
    "    acc_sum,n = 0.0,0\n",
    "    for X,y in data_iter:\n",
    "        if isinstance(net,torch.nn.Module):\n",
    "            net.eval()\n",
    "            acc_sum += (net(X).argmax(dim=1)==y).float.sum().item()\n",
    "            net.train()\n",
    "        else:\n",
    "            if('is_training' in net.__code__.co_varnames):\n",
    "                #如果有这个is_training这个参数，设置成False\n",
    "                acc_sum += (net(X,is_training=False).argmax(dim=1)==y).float().sum().item()\n",
    "            else:\n",
    "                acc_sum += (net(X).argmax(dim=1)==y).float().sum().item()\n",
    "\n",
    "        n += y.shape[0]\n",
    "    return acc_sum/n\n",
    "\n",
    "\n",
    "# 训练和测试模型\n",
    "\n",
    "num_epochs,lr,batch_size = 5,100.0,256\n",
    "loss = torch.nn.CrossEntropyLoss()\n",
    "train_iter,test_iter = d2l.load_data_fashion_mnist(batch_size)\n",
    "d2l.train_ch3(net,train_iter,test_iter,loss,num_epochs,batch_size,params,lr)"
   ]
  },
  {
   "cell_type": "code",
   "execution_count": null,
   "metadata": {},
   "outputs": [],
   "source": []
  }
 ],
 "metadata": {
  "kernelspec": {
   "display_name": "Python 3",
   "language": "python",
   "name": "python3"
  },
  "language_info": {
   "codemirror_mode": {
    "name": "ipython",
    "version": 3
   },
   "file_extension": ".py",
   "mimetype": "text/x-python",
   "name": "python",
   "nbconvert_exporter": "python",
   "pygments_lexer": "ipython3",
   "version": "3.7.4"
  }
 },
 "nbformat": 4,
 "nbformat_minor": 2
}
