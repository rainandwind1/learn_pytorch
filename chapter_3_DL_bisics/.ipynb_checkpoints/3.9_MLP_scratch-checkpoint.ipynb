{
 "cells": [
  {
   "cell_type": "code",
   "execution_count": 6,
   "metadata": {},
   "outputs": [
    {
     "name": "stdout",
     "output_type": "stream",
     "text": [
      "epoch 1, loss 0.0031, train acc 0.712, test acc 0.761\n",
      "epoch 2, loss 0.0019, train acc 0.825, test acc 0.816\n",
      "epoch 3, loss 0.0017, train acc 0.844, test acc 0.836\n",
      "epoch 4, loss 0.0015, train acc 0.855, test acc 0.848\n",
      "epoch 5, loss 0.0014, train acc 0.864, test acc 0.831\n"
     ]
    }
   ],
   "source": [
    "# 多层感知器的从零开始实现\n",
    "import torch\n",
    "import numpy as np\n",
    "import sys\n",
    "sys.path.append(\"..\")\n",
    "import d2lzh_pytorch as d2l\n",
    "\n",
    "# 获取数据和读取数据\n",
    "batch_size = 256\n",
    "train_iter,test_iter = d2l.load_data_fashion_mnist(batch_size)\n",
    "\n",
    "num_inputs = 784\n",
    "num_outputs = 10\n",
    "num_hiddens = 256\n",
    "\n",
    "w1 = torch.tensor(np.random.normal(0.,0.01,(num_inputs,num_hiddens)),dtype = torch.float)\n",
    "b1 = torch.zeros(num_hiddens,dtype=torch.float)\n",
    "\n",
    "w2 = torch.tensor(np.random.normal(0,0.01,(num_hiddens,num_outputs)),dtype=torch.float)\n",
    "b2 = torch.zeros(num_outputs,dtype=torch.float)\n",
    "\n",
    "params = [w1,b1,w2,b2]\n",
    "\n",
    "for param in params:\n",
    "    param.requires_grad_(requires_grad=True)\n",
    "    \n",
    "# 定义激活函数\n",
    "def relu(x):\n",
    "    return torch.max(input=x,other=torch.tensor(0.0))\n",
    "\n",
    "# 定义模型\n",
    "def net(x):\n",
    "    x = x.view((-1,num_inputs))\n",
    "    H = relu(torch.matmul(x,w1) + b1)\n",
    "    return torch.matmul(H,w2) + b2\n",
    "# 定义损失函数\n",
    "loss = torch.nn.CrossEntropyLoss()\n",
    "\n",
    "# 训练模型\n",
    "num_epochs = 5\n",
    "lr = 100\n",
    "d2l.train_ch3(net,train_iter,test_iter,loss,num_epochs,batch_size,params,lr)\n",
    "\n",
    "\n"
   ]
  },
  {
   "cell_type": "code",
   "execution_count": null,
   "metadata": {},
   "outputs": [],
   "source": []
  }
 ],
 "metadata": {
  "kernelspec": {
   "display_name": "Python 3",
   "language": "python",
   "name": "python3"
  },
  "language_info": {
   "codemirror_mode": {
    "name": "ipython",
    "version": 3
   },
   "file_extension": ".py",
   "mimetype": "text/x-python",
   "name": "python",
   "nbconvert_exporter": "python",
   "pygments_lexer": "ipython3",
   "version": "3.7.4"
  }
 },
 "nbformat": 4,
 "nbformat_minor": 2
}
