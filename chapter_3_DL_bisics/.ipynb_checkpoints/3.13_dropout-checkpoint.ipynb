{
 "cells": [
  {
   "cell_type": "code",
   "execution_count": 12,
   "metadata": {},
   "outputs": [
    {
     "name": "stdout",
     "output_type": "stream",
     "text": [
      "tensor([[ 0.0000,  1.4286,  2.8571,  0.0000],\n",
      "        [ 5.7143,  7.1429,  0.0000, 10.0000],\n",
      "        [ 0.0000,  0.0000, 14.2857, 15.7143],\n",
      "        [17.1429, 18.5714, 20.0000, 21.4286]])\n"
     ]
    }
   ],
   "source": [
    "# 从零开始实现 dropout\n",
    "import torch\n",
    "import torch.nn as nn\n",
    "import numpy as np\n",
    "import sys\n",
    "sys.path.append(\"..\")\n",
    "import d2lzh_pytorch as d2l\n",
    "\n",
    "def dropout(x,drop_prob):\n",
    "    X = x.float()\n",
    "    assert 0<=drop_prob<=1\n",
    "    keep_prob = 1 - drop_prob\n",
    "    if keep_prob == 0:\n",
    "        return torch.zeros_like(x)\n",
    "    mask = (torch.rand(X.shape) < keep_prob).float()\n",
    "    return mask*X/keep_prob\n",
    "\n",
    "# a = torch.tensor([1,2,3])\n",
    "# print(torch.zeros_like(a))\n",
    "# print(dropout(torch.arange(16).view((4,4)),0.3))\n",
    "\n",
    "# 定义模型参数\n",
    "num_inputs,num_outputs,num_hidden1,num_hidden2 = 784,10,256,256\n",
    "\n",
    "w1 = torch.tensors(np.random.normal(0,0.01,size = (num_inputs,num_hidden1)),dtype = torch.float,requires_grad = True)\n",
    "b1 = torvh.zeros(num_hidden1,requires_grad = True) \n",
    "\n",
    "w2 = torch.tensors(np.random.normal(0,0.01,size = (num_hidden1,num_hidden2)),dtype = torch.float,requires_grad = True)\n",
    "b2 = torvh.zeros(num_hidden2,requires_grad = True) \n",
    "\n",
    "w3 = torch.tensors(np.random.normal(0,0.01,size = (num_hidden2,num_hidden3)),dtype = torch.float,requires_grad = True)\n",
    "b3 = torvh.zeros(num_hidden3,requires_grad = True) \n",
    "\n",
    "params = [w1,b1,w2,b2,w3,b3]\n",
    "\n",
    "\n"
   ]
  },
  {
   "cell_type": "code",
   "execution_count": null,
   "metadata": {},
   "outputs": [],
   "source": []
  }
 ],
 "metadata": {
  "kernelspec": {
   "display_name": "Python 3",
   "language": "python",
   "name": "python3"
  },
  "language_info": {
   "codemirror_mode": {
    "name": "ipython",
    "version": 3
   },
   "file_extension": ".py",
   "mimetype": "text/x-python",
   "name": "python",
   "nbconvert_exporter": "python",
   "pygments_lexer": "ipython3",
   "version": "3.7.4"
  }
 },
 "nbformat": 4,
 "nbformat_minor": 2
}
