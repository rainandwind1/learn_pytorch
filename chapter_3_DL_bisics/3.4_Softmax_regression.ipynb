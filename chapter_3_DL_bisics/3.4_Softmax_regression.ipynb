{
 "cells": [
  {
   "cell_type": "markdown",
   "metadata": {
    "collapsed": true
   },
   "source": [
    "\tSoftmax 分类问题中使用平方损失和交叉损失都可，但是平方损失对输出的要求较高，跟踪到1，交叉熵损失则需要输出满足比其他类别大即可，交叉熵函数只关注标签类别的概率大小，其目标函数的另一种意义可以看做是最大化训练集合的所有标签类别的联合分布的预测概率最大化，因此在Softmax中使用交叉熵损失是有优势的。交叉熵适合衡量两个分布之间的差异。"
   ]
  },
  {
   "cell_type": "code",
   "execution_count": null,
   "metadata": {},
   "outputs": [],
   "source": []
  }
 ],
 "metadata": {
  "kernelspec": {
   "display_name": "Python 2",
   "language": "python",
   "name": "python2"
  },
  "language_info": {
   "codemirror_mode": {
    "name": "ipython",
    "version": 2.0
   },
   "file_extension": ".py",
   "mimetype": "text/x-python",
   "name": "python",
   "nbconvert_exporter": "python",
   "pygments_lexer": "ipython2",
   "version": "2.7.6"
  }
 },
 "nbformat": 4,
 "nbformat_minor": 0
}
